{
  "nbformat": 4,
  "nbformat_minor": 0,
  "metadata": {
    "colab": {
      "name": "Practice_12_GPS_India_tljh.ipynb",
      "private_outputs": true,
      "provenance": [],
      "collapsed_sections": [],
      "authorship_tag": "ABX9TyNplb3WeR2nVhke9FAHpY7J",
      "include_colab_link": true
    },
    "kernelspec": {
      "name": "python3",
      "display_name": "Python 3"
    },
    "accelerator": "GPU"
  },
  "cells": [
    {
      "cell_type": "markdown",
      "metadata": {
        "id": "view-in-github",
        "colab_type": "text"
      },
      "source": [
        "<a href=\"https://colab.research.google.com/github/JTEC-Iritani/ICT-Training-2021/blob/main/Practice_12_GPS_India_tljh.ipynb\" target=\"_parent\"><img src=\"https://colab.research.google.com/assets/colab-badge.svg\" alt=\"Open In Colab\"/></a>"
      ]
    },
    {
      "cell_type": "code",
      "metadata": {
        "id": "6QQ85BWApa7x"
      },
      "source": [
        "# 使用するライブラリのインポート\n",
        "import pandas as pd\n",
        "import numpy as np\n",
        "import pip\n",
        "import datetime as dt\n",
        "import matplotlib.pyplot as plt #グラフ用\n",
        "# import openlocationcode\n",
        "# !pip openlocationcode\n",
        "import folium #地図作成用\n",
        "from folium.plugins import HeatMap # ヒートマップ用ライブラリ"
      ],
      "execution_count": null,
      "outputs": []
    },
    {
      "cell_type": "code",
      "metadata": {
        "id": "aELuRRMVp6j0"
      },
      "source": [
        "# Google Colabの場合：ローカルファイル（IoTトラッカーで取得したデータ）をアップロードする\n",
        "# The Littlest JupyterHubの場合：下記の2行は不要。別途マニュアルでCSVファイルをアップロードしておく\n",
        "# from google.colab import files\n",
        "# uploaded = files.upload()"
      ],
      "execution_count": null,
      "outputs": []
    },
    {
      "cell_type": "code",
      "metadata": {
        "id": "waYRQfLMp9zf"
      },
      "source": [
        "# CSVをDataFrameに変換\n",
        "df = pd.read_csv('asset-datail-journey-1C8CD0B-1614653378953.csv')\n",
        "# データ（DataFrame）の内容を表示\n",
        "df\n",
        "# df.head(3) # 最初の3行を表示\n",
        "# df.tail(4) # 最後の4行を表示"
      ],
      "execution_count": null,
      "outputs": []
    },
    {
      "cell_type": "code",
      "metadata": {
        "id": "ve2kibr6s3AB"
      },
      "source": [
        "# DataFrame (df)に関する情報を表示\n",
        "df.info()"
      ],
      "execution_count": null,
      "outputs": []
    },
    {
      "cell_type": "code",
      "metadata": {
        "id": "QCMZNsGuq_L2"
      },
      "source": [
        "# データ準備（前処理）をして新しいDataFrame（df_gps）を作成\n",
        "# 不要な列を削除\n",
        "df_gps = df.drop(['status','lqi','address'], axis=1)\n",
        "# 'time'（文字列）を'DATE_TIME'（日時型）に変換\n",
        "df_gps['DATE_TIME'] = pd.to_datetime(df_gps['time'])\n",
        "# tdatetime = dt.strptime(tstr, '%Y-%m-%d %H:%M:%S')\n",
        "# 日付、時刻、時間を分割して列を追加\n",
        "df_gps['DATE'] = df_gps['DATE_TIME'].dt.date\n",
        "df_gps['TIME'] = df_gps['DATE_TIME'].dt.time\n",
        "df_gps['HOUR'] = df_gps['DATE_TIME'].dt.hour\n",
        "# 日付、時間でソート\n",
        "df_gps = df_gps.sort_values(['DATE','TIME']).reset_index(drop=True)"
      ],
      "execution_count": null,
      "outputs": []
    },
    {
      "cell_type": "code",
      "metadata": {
        "id": "2vgO-OnotZ5Z"
      },
      "source": [
        "# DataFrame (df_gps) の最後の7行を表示\n",
        "df_gps.tail(7)\n",
        "# df_gps\n",
        "# df_gps.head(8)"
      ],
      "execution_count": null,
      "outputs": []
    },
    {
      "cell_type": "code",
      "metadata": {
        "id": "Vf7I3SKKzr0W"
      },
      "source": [
        "# DataFrame (df_gps)に関する情報を表示\n",
        "df_gps.info()"
      ],
      "execution_count": null,
      "outputs": []
    },
    {
      "cell_type": "code",
      "metadata": {
        "id": "VmVYNXe6TTfW"
      },
      "source": [
        "# 緯度(lat)、経度(lng)を表示（最初の5行）\n",
        "df_gps[['lat', 'lng']].head()"
      ],
      "execution_count": null,
      "outputs": []
    },
    {
      "cell_type": "code",
      "metadata": {
        "id": "xiXnW6sfu4XW"
      },
      "source": [
        "# 時間ごとのヒストグラム（データの個数）\n",
        "df_gps['HOUR'].hist(bins=24)\n",
        "# df_gps['TIME'].hist()\n",
        "plt.show() "
      ],
      "execution_count": null,
      "outputs": []
    },
    {
      "cell_type": "code",
      "metadata": {
        "id": "mkSjTAih25nF"
      },
      "source": [
        "# 緯度、経度の時系列折れ線グラフ\n",
        "# df_gps['HOUR'].plot(kind='hist')\n",
        "df_gps[['lat', 'lng']].plot(secondary_y=['lng'])\n",
        "# plt.yticks( np.arange(34.93, 34.99, 0.01) )\n",
        "plt.grid()\n",
        "# df.plot(x=df['timestamp'], secondary_y=['ltp'])\n",
        "# df_gps['HOUR'].plot()\n",
        "plt.show()"
      ],
      "execution_count": null,
      "outputs": []
    },
    {
      "cell_type": "code",
      "metadata": {
        "id": "LDMPBNe8B1WN"
      },
      "source": [
        "# 地図オブジェクト作成\n",
        "gps_map = folium.Map(location=[34.946687,135.750812], zoom_start=13)\n",
        "\n",
        "# マーカープロット\n",
        "for i, row in df_gps.iterrows():\n",
        "    folium.Marker(\n",
        "        location=[row['lat'], row['lng']],\n",
        "        popup=row['time'],\n",
        "        icon=folium.Icon(color='red')\n",
        "    ).add_to(gps_map)\n",
        "  \n",
        "  # 地図表示\n",
        "gps_map"
      ],
      "execution_count": null,
      "outputs": []
    },
    {
      "cell_type": "code",
      "metadata": {
        "id": "IVEfiMWa-Q9b"
      },
      "source": [
        "# 地図オブジェクト作成\n",
        "map = folium.Map(location=[34.946687,135.750812], zoom_start=13)\n",
        "\n",
        "# ポップアップの作成(「show=True」で常に表示)\n",
        "p_up = folium.Popup('K社', max_width=500, show=True)\n",
        "\n",
        "# 地図オブジェクトにプロット\n",
        "folium.Marker(location=[34.946687,135.750812], popup=p_up).add_to(map)\n",
        "\n",
        "# 地図表示\n",
        "map"
      ],
      "execution_count": null,
      "outputs": []
    },
    {
      "cell_type": "code",
      "metadata": {
        "id": "kdf6vgnsAC-Q"
      },
      "source": [
        "# 時系列で線を表示\n",
        "line = folium.PolyLine(locations=df_gps[['lat','lng']].values.tolist())\n",
        "gps_map.add_child(line)\n",
        "gps_map"
      ],
      "execution_count": null,
      "outputs": []
    },
    {
      "cell_type": "code",
      "metadata": {
        "id": "aAf3qMIjaxLO"
      },
      "source": [
        "# 地図オブジェクト作成\n",
        "gps_map = folium.Map(location=[34.946687,135.750812], zoom_start=13)\n",
        "\n",
        "# list_gps = df[['lat','lng']].values.tolist()\n",
        "# list_gps\n",
        "\n",
        "# ヒートマップレイヤを地図オブジェクトに追加\n",
        "HeatMap(data=df_gps[['lat','lng']].values.tolist(), radius=25, blur=15).add_to(gps_map)\n",
        "\n",
        "# 地図表示\n",
        "gps_map"
      ],
      "execution_count": null,
      "outputs": []
    },
    {
      "cell_type": "code",
      "metadata": {
        "id": "d_Rhi7M6JofC"
      },
      "source": [
        "# Google Colabの場合：ローカルファイル（インド位置情報データ）をアップロードする（ファイル名：Indian_Places.csv）\n",
        "# The Littlest JupyterHubの場合：下記の2行は不要。別途マニュアルでCSVファイルをアップロードしておく\n",
        "# from google.colab import files\n",
        "# uploaded = files.upload()"
      ],
      "execution_count": null,
      "outputs": []
    },
    {
      "cell_type": "code",
      "metadata": {
        "id": "b0mdCaovJrEJ"
      },
      "source": [
        "# CSVをDataFrameに変換して表示\n",
        "df_india = pd.read_csv('Indian_Places.csv')\n",
        "df_india"
      ],
      "execution_count": null,
      "outputs": []
    },
    {
      "cell_type": "code",
      "metadata": {
        "id": "zBD_iPKFKLB1"
      },
      "source": [
        "# 地図オブジェクト作成\n",
        "map_india = folium.Map(location=[18.520278, 73.856667], zoom_start=5)\n",
        "\n",
        "# マーカープロット（バンガロールとプネは青、それ以外は赤）\n",
        "for i, row in df_india.iterrows():\n",
        "    if (row['CITY'] == 'Bengaluru') | (row['CITY'] == 'Pune'):\n",
        "        folium.Marker(\n",
        "            location=[row['LAT'], row['LNG']],\n",
        "            popup=row['CITY'],\n",
        "            icon=folium.Icon(color='blue')\n",
        "        ).add_to(map_india)\n",
        "    else:\n",
        "        folium.Marker(\n",
        "            location=[row['LAT'], row['LNG']],\n",
        "            popup=row['CITY'],\n",
        "            icon=folium.Icon(color='red')\n",
        "        ).add_to(map_india)\n",
        "  \n",
        "  # 地図表示\n",
        "map_india\n"
      ],
      "execution_count": null,
      "outputs": []
    }
  ]
}
