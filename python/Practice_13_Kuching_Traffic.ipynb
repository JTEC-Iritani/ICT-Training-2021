{
  "nbformat": 4,
  "nbformat_minor": 0,
  "metadata": {
    "colab": {
      "name": "Practice_13_Kuching_Traffic.ipynb",
      "provenance": [],
      "authorship_tag": "ABX9TyNZ3XU+uKdBZvkbOGkdAB/Y",
      "include_colab_link": true
    },
    "kernelspec": {
      "name": "python3",
      "display_name": "Python 3"
    },
    "language_info": {
      "name": "python"
    }
  },
  "cells": [
    {
      "cell_type": "markdown",
      "metadata": {
        "id": "view-in-github",
        "colab_type": "text"
      },
      "source": [
        "<a href=\"https://colab.research.google.com/github/JTEC-Iritani/ICT-Training-2021/blob/main/python/Practice_13_Kuching_Traffic.ipynb\" target=\"_parent\"><img src=\"https://colab.research.google.com/assets/colab-badge.svg\" alt=\"Open In Colab\"/></a>"
      ]
    },
    {
      "cell_type": "markdown",
      "metadata": {
        "id": "HyWHpPifp8YH"
      },
      "source": [
        "# Kuching Traffic Data"
      ]
    },
    {
      "cell_type": "code",
      "metadata": {
        "id": "SNvkjw4nqBfg"
      },
      "source": [
        "# Import the libraries 使用するライブラリのインポート\n",
        "import pandas as pd\n",
        "import numpy as np\n",
        "import pip\n",
        "import datetime as dt\n",
        "import matplotlib.pyplot as plt # For charts グラフ用\n",
        "# import openlocationcode\n",
        "# !pip openlocationcode\n",
        "# For generating maps 地図作成用\n",
        "import folium \n",
        "# For heat maps ヒートマップ用ライブラリをインポート\n",
        "from folium.plugins import HeatMap"
      ],
      "execution_count": null,
      "outputs": []
    },
    {
      "cell_type": "code",
      "metadata": {
        "id": "p-37OLwhqKPh"
      },
      "source": [
        "# ローカルファイル（クチン市から受領した交通量データ）をアップロードする（Google Colaboratoryの場合）\n",
        "# The Littlest JupyterHubの場合：下記の2行は実行不要。必要に応じ、別途マニュアルでCSVファイルをアップロードしておく\n",
        "from google.colab import files\n",
        "uploaded = files.upload()"
      ],
      "execution_count": null,
      "outputs": []
    },
    {
      "cell_type": "code",
      "metadata": {
        "id": "8SebZ-ZNzsEN"
      },
      "source": [
        "# アップロードしたテキストファイル（タブ区切り）をDataFrameに変換\n",
        "df = pd.read_table('../data/Kuching_Traffic_202003.txt',header=1)\n",
        "df"
      ],
      "execution_count": null,
      "outputs": []
    },
    {
      "cell_type": "code",
      "metadata": {
        "id": "qrVp9k0SjU-2"
      },
      "source": [
        "# 列の追加\n",
        "df['DATE_TIME'] = pd.to_datetime(df['Time'], format='%d/%m/%Y %H:%M') # 文字列を日時形式（datatime64）に変換\n",
        "df['DATE'] = df['DATE_TIME'].apply(lambda x : dt.date(x.year,x.month,x.day)) # 日付だけを抽出\n",
        "df.head(3)"
      ],
      "execution_count": null,
      "outputs": []
    },
    {
      "cell_type": "code",
      "metadata": {
        "id": "KKrd3auprgmR"
      },
      "source": [
        "# DataFrame情報の確認\n",
        "df.info()"
      ],
      "execution_count": null,
      "outputs": []
    },
    {
      "cell_type": "code",
      "metadata": {
        "id": "G69hwHPLZaOG"
      },
      "source": [
        "df.TcsNo.unique() #交差点IDの確認"
      ],
      "execution_count": null,
      "outputs": []
    },
    {
      "cell_type": "code",
      "metadata": {
        "id": "cNekgIVKZoMx"
      },
      "source": [
        "df['DATE'].unique() #日付の確認"
      ],
      "execution_count": null,
      "outputs": []
    },
    {
      "cell_type": "code",
      "metadata": {
        "id": "NStIg1ykzcKg"
      },
      "source": [
        "# FBProphet読み込み用のデータ作成（列の選択、列名の変更）\n",
        "df1 = df[['DATE_TIME','Volume','TcsNo']].rename(columns={'DATE_TIME': 'ds', 'Volume': 'y','TcsNo':'INT_ID'}).reset_index(drop=True)\n",
        "df1.tail(3)"
      ],
      "execution_count": null,
      "outputs": []
    },
    {
      "cell_type": "code",
      "metadata": {
        "id": "dB5CbI310brg"
      },
      "source": [
        "df1.info()"
      ],
      "execution_count": null,
      "outputs": []
    },
    {
      "cell_type": "code",
      "metadata": {
        "id": "CXen76yNro4g"
      },
      "source": [
        "df1.head(3)"
      ],
      "execution_count": null,
      "outputs": []
    },
    {
      "cell_type": "code",
      "metadata": {
        "id": "UNWwc9yp3DZP"
      },
      "source": [
        "df1.to_pickle(\"Kuching_Traffic_Data_202003_1.pickle\") # DataFrameをpickle形式に変換"
      ],
      "execution_count": null,
      "outputs": []
    },
    {
      "cell_type": "code",
      "metadata": {
        "id": "nUhh36KkC8cV"
      },
      "source": [
        "# ファイルをダウンロードする（Google Colaboratoryの場合）\n",
        "from google.colab import files\n",
        "files.download(\"Kuching_Traffic_Data_202003_1.pickle\")"
      ],
      "execution_count": null,
      "outputs": []
    },
    {
      "cell_type": "markdown",
      "metadata": {
        "id": "AaGkMkOesfUS"
      },
      "source": [
        "# 以下はおまけです。（途中）"
      ]
    },
    {
      "cell_type": "code",
      "metadata": {
        "id": "Gt9JoMQ0sn_s"
      },
      "source": [
        "# 1日ごとの交通量\n",
        "df['DATE'].plot\n",
        "# df_gps['TIME'].hist()\n",
        "plt.show() "
      ],
      "execution_count": null,
      "outputs": []
    },
    {
      "cell_type": "code",
      "metadata": {
        "id": "Xg-WsFbDq6AO"
      },
      "source": [
        "fig, ax = plt.subplots(1, 1, figsize =(15,3))\n",
        "ax.plot(df1.ds, df1['y'], label = 'Traffic Volume')"
      ],
      "execution_count": null,
      "outputs": []
    }
  ]
}