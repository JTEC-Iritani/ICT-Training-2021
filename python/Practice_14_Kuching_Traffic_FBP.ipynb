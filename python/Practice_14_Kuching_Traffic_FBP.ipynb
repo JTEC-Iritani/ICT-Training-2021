{
  "nbformat": 4,
  "nbformat_minor": 0,
  "metadata": {
    "colab": {
      "name": "Practice_14_Kuching_Traffic_FBP.ipynb",
      "provenance": [],
      "authorship_tag": "ABX9TyNQSXarw5UxxXJfCFDFu+lu",
      "include_colab_link": true
    },
    "kernelspec": {
      "name": "python3",
      "display_name": "Python 3"
    },
    "language_info": {
      "name": "python"
    }
  },
  "cells": [
    {
      "cell_type": "markdown",
      "metadata": {
        "id": "view-in-github",
        "colab_type": "text"
      },
      "source": [
        "<a href=\"https://colab.research.google.com/github/JTEC-Iritani/ICT-Training-2021/blob/main/python/Practice_14_Kuching_Traffic_FBP.ipynb\" target=\"_parent\"><img src=\"https://colab.research.google.com/assets/colab-badge.svg\" alt=\"Open In Colab\"/></a>"
      ]
    },
    {
      "cell_type": "markdown",
      "metadata": {
        "id": "HyWHpPifp8YH"
      },
      "source": [
        "# Kuching Traffic Data"
      ]
    },
    {
      "cell_type": "code",
      "metadata": {
        "id": "SNvkjw4nqBfg"
      },
      "source": [
        "# Import the libraries 使用するライブラリのインポート\n",
        "import pandas as pd\n",
        "import numpy as np\n",
        "import pip\n",
        "import datetime as dt\n",
        "from fbprophet import Prophet\n",
        "import matplotlib.pyplot as plt #グラフ用\n",
        "# import openlocationcode\n",
        "# !pip openlocationcode\n",
        "import folium #地図作成用\n",
        "from folium.plugins import HeatMap # ヒートマップ用ライブラリ"
      ],
      "execution_count": null,
      "outputs": []
    },
    {
      "cell_type": "code",
      "metadata": {
        "id": "p-37OLwhqKPh"
      },
      "source": [
        "# ローカルファイル（クチン市交通量データ）をアップロードする（Google Colaboratoryの場合）\n",
        "from google.colab import files\n",
        "uploaded = files.upload()"
      ],
      "execution_count": null,
      "outputs": []
    },
    {
      "cell_type": "code",
      "metadata": {
        "id": "n146urZDD7wc"
      },
      "source": [
        "# pickleデータをDataFrameに変換（フォルダ名を必要に応じ修正すること）\n",
        "df = pd.read_pickle('data/Kuching_Traffic_Data_202003_1.pickle')\n",
        "# データの内容を表示\n",
        "df\n",
        "# df.head(3)"
      ],
      "execution_count": null,
      "outputs": []
    },
    {
      "cell_type": "code",
      "metadata": {
        "id": "KKrd3auprgmR"
      },
      "source": [
        "df.info()\n",
        "# df.describe()"
      ],
      "execution_count": null,
      "outputs": []
    },
    {
      "cell_type": "code",
      "metadata": {
        "id": "G69hwHPLZaOG"
      },
      "source": [
        "INT_List = df.INT_ID.unique()\n",
        "INT_List"
      ],
      "execution_count": null,
      "outputs": []
    },
    {
      "cell_type": "code",
      "metadata": {
        "id": "FxkwAy2Kw7aj"
      },
      "source": [
        "df1 = df[df['INT_ID'] == 8207] #交差点IDを指定してデータを抽出\n",
        "df1"
      ],
      "execution_count": null,
      "outputs": []
    },
    {
      "cell_type": "code",
      "metadata": {
        "id": "wLxP2hVpxbWP"
      },
      "source": [
        "# df1.describe()\n",
        "df1.info()"
      ],
      "execution_count": null,
      "outputs": []
    },
    {
      "cell_type": "code",
      "metadata": {
        "id": "HCcah2EmRM6-"
      },
      "source": [
        "# Sample 1日単位より短い間隔のデータ\n",
        "# m = Prophet(changepoint_prior_scale=0.01).fit(df)\n",
        "# future = m.make_future_dataframe(periods=300, freq='H')\n",
        "fcst = m.predict(future)\n",
        "fig = m.plot(fcst)"
      ],
      "execution_count": null,
      "outputs": []
    },
    {
      "cell_type": "code",
      "metadata": {
        "id": "ku4soNyrJx83"
      },
      "source": [
        "#Python\n",
        "# m = Prophet().fit(df1)\n",
        "m = Prophet(changepoint_prior_scale=0.01).fit(df1)"
      ],
      "execution_count": null,
      "outputs": []
    },
    {
      "cell_type": "code",
      "metadata": {
        "id": "cxMXm-hRMbpm"
      },
      "source": [
        "# Python\n",
        "future = m.make_future_dataframe(periods=168, freq='H')\n",
        "# future = m.make_future_dataframe(periods=365)\n",
        "\n",
        "future.tail()"
      ],
      "execution_count": null,
      "outputs": []
    },
    {
      "cell_type": "code",
      "metadata": {
        "id": "04pg20P-MsLM"
      },
      "source": [
        "# Python\n",
        "forecast = m.predict(future)\n",
        "forecast[['ds', 'yhat', 'yhat_lower', 'yhat_upper']].tail()"
      ],
      "execution_count": null,
      "outputs": []
    },
    {
      "cell_type": "code",
      "metadata": {
        "id": "910IdFD-Mx8B"
      },
      "source": [
        "# Python\n",
        "fig1 = m.plot(forecast)"
      ],
      "execution_count": null,
      "outputs": []
    },
    {
      "cell_type": "code",
      "metadata": {
        "id": "JLCo0dZFM5rx"
      },
      "source": [
        "# Python\n",
        "fig2 = m.plot_components(forecast)"
      ],
      "execution_count": null,
      "outputs": []
    },
    {
      "cell_type": "code",
      "metadata": {
        "id": "gecCOcHaiqRb"
      },
      "source": [
        "# Google Colabの場合：ローカルファイル（クチン市交差点位置情報データ）をアップロードする（ファイル名：Kuching Intersections GPS.csv）\n",
        "# The Littlest JupyterHubの場合：下記の2行は不要。別途マニュアルでCSVファイルをアップロードしておく\n",
        "from google.colab import files\n",
        "uploaded = files.upload()"
      ],
      "execution_count": null,
      "outputs": []
    },
    {
      "cell_type": "code",
      "metadata": {
        "id": "n4b9UcJKixe6"
      },
      "source": [
        "# CSVをDataFrameに変換して表示（フォルダ名を必要に応じ修正すること）\n",
        "df_kuching = pd.read_csv('data/Kuching Intersections GPS.csv')\n",
        "df_kuching.head(8)"
      ],
      "execution_count": null,
      "outputs": []
    },
    {
      "cell_type": "code",
      "metadata": {
        "id": "5z_aksEpjDwm"
      },
      "source": [
        "# 地図オブジェクト作成\n",
        "map_kuching = folium.Map(location=[1.523833, 110.347119], zoom_start=12)\n",
        "\n",
        "# マーカープロット（測定交差点は青、それ以外は赤）\n",
        "for i, row in df_kuching.iterrows():\n",
        "    if (row['INT_ID'] in INT_List):\n",
        "    # if (row['INT_ID'] == 8207) | (row['INT_ID'] == 8208) | (row['INT_ID'] == 8226):\n",
        "        folium.Marker(\n",
        "            location=[row['LAT'], row['LNG']],\n",
        "            popup=row['INT_NAME'],\n",
        "            icon=folium.Icon(color='blue')\n",
        "        ).add_to(map_kuching)\n",
        "    else:\n",
        "        folium.Marker(\n",
        "            location=[row['LAT'], row['LNG']],\n",
        "            popup=row['INT_NAME'],\n",
        "            icon=folium.Icon(color='red')\n",
        "        ).add_to(map_kuching)\n",
        "  \n",
        "  # 地図表示\n",
        "map_kuching"
      ],
      "execution_count": null,
      "outputs": []
    }
  ]
}