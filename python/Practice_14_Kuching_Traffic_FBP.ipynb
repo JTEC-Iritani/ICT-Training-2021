{
  "nbformat": 4,
  "nbformat_minor": 0,
  "metadata": {
    "colab": {
      "name": "Practice_14_Kuching_Traffic_FBP.ipynb",
      "provenance": [],
      "authorship_tag": "ABX9TyNdofTOVgNn+7HpZykTlXvF",
      "include_colab_link": true
    },
    "kernelspec": {
      "name": "python3",
      "display_name": "Python 3"
    },
    "language_info": {
      "name": "python"
    }
  },
  "cells": [
    {
      "cell_type": "markdown",
      "metadata": {
        "id": "view-in-github",
        "colab_type": "text"
      },
      "source": [
        "<a href=\"https://colab.research.google.com/github/JTEC-Iritani/ICT-Training-2021/blob/main/Practice_14_Kuching_Traffic_FBP.ipynb\" target=\"_parent\"><img src=\"https://colab.research.google.com/assets/colab-badge.svg\" alt=\"Open In Colab\"/></a>"
      ]
    },
    {
      "cell_type": "markdown",
      "metadata": {
        "id": "HyWHpPifp8YH"
      },
      "source": [
        "# Kuching Traffic Data"
      ]
    },
    {
      "cell_type": "code",
      "metadata": {
        "id": "SNvkjw4nqBfg"
      },
      "source": [
        "# Import the libraries 使用するライブラリのインポート\n",
        "import pandas as pd\n",
        "import numpy as np\n",
        "import pip\n",
        "import datetime as dt\n",
        "from fbprophet import Prophet"
      ],
      "execution_count": null,
      "outputs": []
    },
    {
      "cell_type": "code",
      "metadata": {
        "id": "p-37OLwhqKPh"
      },
      "source": [
        "# ローカルファイル（クチン市交通量データ）をアップロードする（Google Colaboratoryの場合）\n",
        "from google.colab import files\n",
        "uploaded = files.upload()"
      ],
      "execution_count": null,
      "outputs": []
    },
    {
      "cell_type": "code",
      "metadata": {
        "id": "n146urZDD7wc"
      },
      "source": [
        "# pickleデータをDataFrameに変換\n",
        "df = pd.read_pickle('Kuching_Traffic_Data_202003_1.pickle')\n",
        "# データの内容を表示\n",
        "df\n",
        "# df.head(3)"
      ],
      "execution_count": null,
      "outputs": []
    },
    {
      "cell_type": "code",
      "metadata": {
        "id": "KKrd3auprgmR"
      },
      "source": [
        "df.info()\n",
        "# df.describe()"
      ],
      "execution_count": null,
      "outputs": []
    },
    {
      "cell_type": "code",
      "metadata": {
        "id": "G69hwHPLZaOG"
      },
      "source": [
        "df.INT_ID.unique()"
      ],
      "execution_count": null,
      "outputs": []
    },
    {
      "cell_type": "code",
      "metadata": {
        "id": "FxkwAy2Kw7aj"
      },
      "source": [
        "# df1 = df.query(\"'2020/3/1' <= DATE <= '2020/3/31' & INT_ID == 8207\") #日付の範囲と交差点IDを指定してデータを抽出\n",
        "# df1 = df.query(\"'2020/3/1' <= DATE <= '2020/3/31'\") #日付の範囲を指定してデータを抽出\n",
        "df1 = df[df['INT_ID'] == 8207]\n",
        "df1"
      ],
      "execution_count": null,
      "outputs": []
    },
    {
      "cell_type": "code",
      "metadata": {
        "id": "wLxP2hVpxbWP"
      },
      "source": [
        "# df1.describe()\n",
        "df1.info()"
      ],
      "execution_count": null,
      "outputs": []
    },
    {
      "cell_type": "code",
      "metadata": {
        "id": "ku4soNyrJx83"
      },
      "source": [
        "#Python\n",
        "m = Prophet()\n",
        "m.fit(df1)"
      ],
      "execution_count": null,
      "outputs": []
    },
    {
      "cell_type": "code",
      "metadata": {
        "id": "cxMXm-hRMbpm"
      },
      "source": [
        "# Python\n",
        "future = m.make_future_dataframe(periods=21)\n",
        "# future = m.make_future_dataframe(periods=365)\n",
        "\n",
        "future.tail()"
      ],
      "execution_count": null,
      "outputs": []
    },
    {
      "cell_type": "code",
      "metadata": {
        "id": "04pg20P-MsLM"
      },
      "source": [
        "# Python\n",
        "forecast = m.predict(future)\n",
        "forecast[['ds', 'yhat', 'yhat_lower', 'yhat_upper']].tail()"
      ],
      "execution_count": null,
      "outputs": []
    },
    {
      "cell_type": "code",
      "metadata": {
        "id": "910IdFD-Mx8B"
      },
      "source": [
        "# Python\n",
        "fig1 = m.plot(forecast)"
      ],
      "execution_count": null,
      "outputs": []
    },
    {
      "cell_type": "code",
      "metadata": {
        "id": "JLCo0dZFM5rx"
      },
      "source": [
        "# Python\n",
        "fig2 = m.plot_components(forecast)"
      ],
      "execution_count": null,
      "outputs": []
    }
  ]
}
