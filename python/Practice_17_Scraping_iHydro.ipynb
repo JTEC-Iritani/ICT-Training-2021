{
  "nbformat": 4,
  "nbformat_minor": 0,
  "metadata": {
    "colab": {
      "name": "Practice_17_Scraping_iHydro.ipynb",
      "provenance": [],
      "authorship_tag": "ABX9TyMfv0SFFR/dNnkRrVa7tNaH",
      "include_colab_link": true
    },
    "kernelspec": {
      "name": "python3",
      "display_name": "Python 3"
    },
    "language_info": {
      "name": "python"
    }
  },
  "cells": [
    {
      "cell_type": "markdown",
      "metadata": {
        "id": "view-in-github",
        "colab_type": "text"
      },
      "source": [
        "<a href=\"https://colab.research.google.com/github/JTEC-Iritani/ICT-Training-2021/blob/main/Practice_17_Scraping_iHydro.ipynb\" target=\"_parent\"><img src=\"https://colab.research.google.com/assets/colab-badge.svg\" alt=\"Open In Colab\"/></a>"
      ]
    },
    {
      "cell_type": "markdown",
      "metadata": {
        "id": "JflbZnGBetB3"
      },
      "source": [
        "# Scraping Data from iHydro"
      ]
    },
    {
      "cell_type": "code",
      "metadata": {
        "id": "1GC1S_M3ejqp"
      },
      "source": [
        "import requests\n",
        "from bs4 import BeautifulSoup\n",
        "import datetime as dt\n",
        "import pandas as pd\n",
        "import pandas_profiling\n",
        "import numpy as np"
      ],
      "execution_count": null,
      "outputs": []
    },
    {
      "cell_type": "code",
      "metadata": {
        "id": "Af57mKEfe4mN"
      },
      "source": [
        "# BeautifulSoupで日本語使用のため\n",
        "!pip install chardet\n",
        "font = {\"family\": \"TakaoGothic\"}"
      ],
      "execution_count": null,
      "outputs": []
    },
    {
      "cell_type": "code",
      "metadata": {
        "id": "gGfvTuhmfo74"
      },
      "source": [
        "# Pandas Profilingのインストール（Google Colabでは毎回実行）\n",
        "!pip install git+https://github.com/pandas-profiling/pandas-profiling.git"
      ],
      "execution_count": null,
      "outputs": []
    },
    {
      "cell_type": "code",
      "metadata": {
        "id": "NOgVQIBBf180"
      },
      "source": [
        "!pip show pandas_profiling"
      ],
      "execution_count": null,
      "outputs": []
    },
    {
      "cell_type": "code",
      "metadata": {
        "id": "MUSEGp1df5Fs"
      },
      "source": [
        "import warnings\n",
        "from pandas_profiling import ProfileReport\n",
        "from pandas_profiling.utils.cache import cache_file\n",
        "\n",
        "warnings.filterwarnings('ignore')"
      ],
      "execution_count": null,
      "outputs": []
    },
    {
      "cell_type": "code",
      "metadata": {
        "id": "KzzE74WhziIw"
      },
      "source": [
        "# 雨量データ蓄積用DataFrameの作成・初期化（1回目のみ）\n",
        "cols_f = [\"STATION\", \"DIVISION\", \"BASIN\", \"DATE\", \"RAINFALL\"]\n",
        "df = pd.DataFrame(index=[], columns=cols_f) # データ蓄積用"
      ],
      "execution_count": null,
      "outputs": []
    },
    {
      "cell_type": "code",
      "metadata": {
        "id": "r-K0kbiPe9G3"
      },
      "source": [
        "response = requests.get('https://ihydro.sarawak.gov.my/iHydro/en/datatable/rainfall/latest-rainfall.jsp?division_id=1&page=1') # ウェブページデータの取得 Division = Kuching, Page = 1\n",
        "# response = requests.get('https://ihydro.sarawak.gov.my/iHydro/en/datatable/rainfall/latest-rainfall.jsp?division_id=1&page=2') # ウェブページデータの取得 Division = Kuching, Page = 2\n",
        "# response = requests.get('https://ihydro.sarawak.gov.my/iHydro/en/datatable/rainfall/latest-rainfall.jsp?division_id=1&page=3') # ウェブページデータの取得 Division = Kuching, Page = 3"
      ],
      "execution_count": null,
      "outputs": []
    },
    {
      "cell_type": "code",
      "metadata": {
        "id": "c-HFmy0AfaQS"
      },
      "source": [
        "soup = BeautifulSoup(response.content, 'html.parser') # データの整形"
      ],
      "execution_count": null,
      "outputs": []
    },
    {
      "cell_type": "code",
      "metadata": {
        "id": "r2yOrxR1lMLM"
      },
      "source": [
        "soup.find(class_='header-text').text # ヘッダの内容確認"
      ],
      "execution_count": null,
      "outputs": []
    },
    {
      "cell_type": "code",
      "metadata": {
        "id": "0pU3aawCXQ4M"
      },
      "source": [
        "# 雨量データ用DataFrameの作成・初期化\n",
        "cols_f = [\"STATION\", \"DIVISION\", \"BASIN\", \"DATE\", \"RAINFALL\"]\n",
        "df_rain_data_f = pd.DataFrame(index=[], columns=cols_f) # データ蓄積用\n",
        "df_rain_data_row1  = pd.DataFrame(index=[], columns=cols_f) # 作業用\n",
        "cols_w = [\"NUM\", \"STATION\",\"DIVISION\", \"BASIN\", \"LAST\", \"D1\", \"D2\", \"D3\", \"D4\", \"D5\", \"D6\", \"D7\"]\n",
        "df_rain_table_w = pd.DataFrame(index=[], columns=cols_w) # 作業用"
      ],
      "execution_count": null,
      "outputs": []
    },
    {
      "cell_type": "code",
      "metadata": {
        "id": "cf5T0ADmmDF4"
      },
      "source": [
        "rain_table = soup.find_all(class_='table-bordered table-hover') # 表データの取得\n",
        "# rain_data = soup.find_all(class_='table-content')"
      ],
      "execution_count": null,
      "outputs": []
    },
    {
      "cell_type": "code",
      "metadata": {
        "id": "1LGaVrHTmXzE"
      },
      "source": [
        "rain_data_loc = soup.find_all(class_= \"table-content-hyperlink\") # Station Nameの取得"
      ],
      "execution_count": null,
      "outputs": []
    },
    {
      "cell_type": "code",
      "metadata": {
        "id": "yCSnBCazzKyt"
      },
      "source": [
        "num_rows = len(rain_data_loc) #データ行数の取得"
      ],
      "execution_count": null,
      "outputs": []
    },
    {
      "cell_type": "code",
      "metadata": {
        "id": "qT6-lOBCzK7s"
      },
      "source": [
        "num_rows #データ行数の表示（確認用）"
      ],
      "execution_count": null,
      "outputs": []
    },
    {
      "cell_type": "code",
      "metadata": {
        "id": "z1gXviPVzq7N"
      },
      "source": [
        "rain_data_loc[0].text"
      ],
      "execution_count": null,
      "outputs": []
    },
    {
      "cell_type": "code",
      "metadata": {
        "id": "95Nu2V9Z0Lif"
      },
      "source": [
        "# Station Nameを作業用DataFrameにセット\n",
        "for r_idx in range(num_rows):\n",
        "    df_rain_table_w.at[r_idx, \"STATION\"]  = rain_data_loc[r_idx].text"
      ],
      "execution_count": null,
      "outputs": []
    },
    {
      "cell_type": "code",
      "metadata": {
        "id": "GW6IW9V12h82"
      },
      "source": [
        "df_rain_table_w = df_rain_table_w.apply(lambda d: d.str.strip()) # 制御コード削除"
      ],
      "execution_count": null,
      "outputs": []
    },
    {
      "cell_type": "code",
      "metadata": {
        "id": "sQxF9CYe1fKa"
      },
      "source": [
        "df_rain_table_w # 作業用DataFrame表示（確認用）"
      ],
      "execution_count": null,
      "outputs": []
    },
    {
      "cell_type": "code",
      "metadata": {
        "id": "dUGn4OjLyz_w"
      },
      "source": [
        "rain_data = soup.find_all(class_= \"table-content\") # 雨量データの取得"
      ],
      "execution_count": null,
      "outputs": []
    },
    {
      "cell_type": "code",
      "metadata": {
        "id": "sy1Q2z11x7vE"
      },
      "source": [
        "rain_data[5].text"
      ],
      "execution_count": null,
      "outputs": []
    },
    {
      "cell_type": "code",
      "metadata": {
        "id": "ZEJLtwfryvcB"
      },
      "source": [
        "# 場所名の情報、雨量データ等を作業用DataFrameにセット\n",
        "for r_idx in range(num_rows):\n",
        "    df_rain_table_w.at[r_idx, \"NUM\"]  = rain_data[r_idx * 11].text\n",
        "    df_rain_table_w.at[r_idx, \"DIVISION\"]  = rain_data[r_idx * 11 + 1].text\n",
        "    df_rain_table_w.at[r_idx, \"BASIN\"]  = rain_data[r_idx * 11 + 2].text\n",
        "    df_rain_table_w.at[r_idx, \"LAST\"]  = rain_data[r_idx * 11 + 3].text\n",
        "    df_rain_table_w.at[r_idx, \"D1\"]  = rain_data[r_idx * 11 + 4].text\n",
        "    df_rain_table_w.at[r_idx, \"D2\"]  = rain_data[r_idx * 11 + 5].text\n",
        "    df_rain_table_w.at[r_idx, \"D3\"]  = rain_data[r_idx * 11 + 6].text\n",
        "    df_rain_table_w.at[r_idx, \"D4\"]  = rain_data[r_idx * 11 + 7].text\n",
        "    df_rain_table_w.at[r_idx, \"D5\"]  = rain_data[r_idx * 11 + 8].text\n",
        "    df_rain_table_w.at[r_idx, \"D6\"]  = rain_data[r_idx * 11 + 9].text\n",
        "    df_rain_table_w.at[r_idx, \"D7\"]  = rain_data[r_idx * 11 + 10].text"
      ],
      "execution_count": null,
      "outputs": []
    },
    {
      "cell_type": "code",
      "metadata": {
        "id": "xSdRkhafmckr"
      },
      "source": [
        "date_table_w = soup.find_all(class_= \"caption-description-center\") # カラム名から日付データの取得"
      ],
      "execution_count": null,
      "outputs": []
    },
    {
      "cell_type": "code",
      "metadata": {
        "id": "N2oTtrhfmoL1"
      },
      "source": [
        "date_table_w"
      ],
      "execution_count": null,
      "outputs": []
    },
    {
      "cell_type": "code",
      "metadata": {
        "id": "REER938EEGZz"
      },
      "source": [
        "date_table_w[7].text"
      ],
      "execution_count": null,
      "outputs": []
    },
    {
      "cell_type": "code",
      "metadata": {
        "id": "e3DfyyEcFqMX"
      },
      "source": [
        "# リストの初期化\n",
        "date_w = [0] * 6"
      ],
      "execution_count": null,
      "outputs": []
    },
    {
      "cell_type": "code",
      "metadata": {
        "id": "jH_VYT6gEXdA"
      },
      "source": [
        "# 日付のセット\n",
        "for idx in range(6):\n",
        "    date_w[idx] = date_table_w[idx + 7].text"
      ],
      "execution_count": null,
      "outputs": []
    },
    {
      "cell_type": "code",
      "metadata": {
        "id": "UL4YPYExIdgr"
      },
      "source": [
        "date_w"
      ],
      "execution_count": null,
      "outputs": []
    },
    {
      "cell_type": "code",
      "metadata": {
        "id": "7bMUNkVLNNab"
      },
      "source": [
        "# 出力用フォーマットに変換\n",
        "for idx1 in range(num_rows):\n",
        "  for idx2 in range(6):\n",
        "    df_rain_data_row1.at[0, \"STATION\"] = df_rain_table_w.at[idx1, \"STATION\"]\n",
        "    df_rain_data_row1.at[0, \"DIVISION\"] = df_rain_table_w.at[idx1, \"DIVISION\"]\n",
        "    df_rain_data_row1.at[0, \"BASIN\"] = df_rain_table_w.at[idx1, \"BASIN\"]\n",
        "    df_rain_data_row1.at[0, \"DATE\"] = date_w[idx2]\n",
        "    df_rain_data_row1.at[0, \"RAINFALL\"] = df_rain_table_w.iat[idx1, idx2 + 5]\n",
        "    df_rain_data_f = df_rain_data_f.append(df_rain_data_row1)\n"
      ],
      "execution_count": null,
      "outputs": []
    },
    {
      "cell_type": "code",
      "metadata": {
        "id": "MmNYjKW9Z-6X"
      },
      "source": [
        "df_rain_data_f['DATE'] = pd.to_datetime(df_rain_data_f['DATE'], format = '%d-%m-%Y') # 文字列から日付形式に変換"
      ],
      "execution_count": null,
      "outputs": []
    },
    {
      "cell_type": "code",
      "metadata": {
        "id": "pIzgCDXCcKWS"
      },
      "source": [
        "df_rain_data_f['RAINFALL'] = df_rain_data_f['RAINFALL'].astype(float) # 文字列から数値に変換"
      ],
      "execution_count": null,
      "outputs": []
    },
    {
      "cell_type": "code",
      "metadata": {
        "id": "ZeM4YuABSqMP"
      },
      "source": [
        "df_rain_data_f.tail(12)"
      ],
      "execution_count": null,
      "outputs": []
    },
    {
      "cell_type": "code",
      "metadata": {
        "id": "bWlLHTRPWkd2"
      },
      "source": [
        "# 属性の確認\n",
        "df_rain_data_f.info()"
      ],
      "execution_count": null,
      "outputs": []
    },
    {
      "cell_type": "code",
      "metadata": {
        "id": "TcMNAV-v5ZSI"
      },
      "source": [
        "# 2回目以降実行\n",
        "# ローカルファイル（既存のクチン雨量データを蓄積したもの）をアップロードする（Google Colaboratoryの場合）\n",
        "# The Littlest JupyterHubの場合：下記の2行は実行不要。必要に応じ、別途マニュアルでCSVファイルをアップロードしておく\n",
        "from google.colab import files\n",
        "uploaded = files.upload()"
      ],
      "execution_count": null,
      "outputs": []
    },
    {
      "cell_type": "code",
      "metadata": {
        "id": "4TAm84eV5eF1"
      },
      "source": [
        "# 2回目以降実行\n",
        "# pickleデータをDataFrameに変換（フォルダの場所を確認し、パスを必要に応じ修正すること）\n",
        "# df = pd.read_pickle('../data/Kuching_Rain_Data_202109_1.pickle') # JupyterLab等用\n",
        "df = pd.read_pickle('Kuching_Rain_Data_202109_1.pickle') # Google Colaboratory用"
      ],
      "execution_count": null,
      "outputs": []
    },
    {
      "cell_type": "code",
      "metadata": {
        "id": "CHbhFb9v65nE"
      },
      "source": [
        "# 既存の蓄積データへの追加\n",
        "df = df.append(df_rain_data_f)"
      ],
      "execution_count": null,
      "outputs": []
    },
    {
      "cell_type": "code",
      "metadata": {
        "id": "TB-hEW4BAmmH"
      },
      "source": [
        "df.drop_duplicates(inplace=True) # 重複データの削除"
      ],
      "execution_count": null,
      "outputs": []
    },
    {
      "cell_type": "code",
      "metadata": {
        "id": "OWldvqVqzlhJ"
      },
      "source": [
        "df.info()"
      ],
      "execution_count": null,
      "outputs": []
    },
    {
      "cell_type": "code",
      "metadata": {
        "id": "lZ902xDmdBca"
      },
      "source": [
        "df.reset_index(inplace=True, drop=True) # インデックスのリセット"
      ],
      "execution_count": null,
      "outputs": []
    },
    {
      "cell_type": "code",
      "metadata": {
        "id": "c7yKhoVrlNgv"
      },
      "source": [
        "df.to_pickle(\"Kuching_Rain_Data_202109_1.pickle\") # DataFrameをpickle形式に変換"
      ],
      "execution_count": null,
      "outputs": []
    },
    {
      "cell_type": "code",
      "metadata": {
        "id": "lzEwXCOElRI5"
      },
      "source": [
        "# ファイルをダウンロードする（Google Colaboratoryの場合）\n",
        "from google.colab import files\n",
        "files.download(\"Kuching_Rain_Data_202109_1.pickle\")"
      ],
      "execution_count": null,
      "outputs": []
    }
  ]
}
